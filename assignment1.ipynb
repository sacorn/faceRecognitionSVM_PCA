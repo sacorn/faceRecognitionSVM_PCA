{
 "cells": [
  {
   "cell_type": "markdown",
   "id": "7db28d12",
   "metadata": {},
   "source": [
    "## Cancer Diagnosis Using Machine Learning algorithms such as Decision Tree, Bagging, AdaBoost, XGBoost, and Random Forest."
   ]
  },
  {
   "cell_type": "markdown",
   "id": "cef9af3e",
   "metadata": {},
   "source": [
    "## Part I"
   ]
  },
  {
   "cell_type": "code",
   "execution_count": 1,
   "id": "013a4a0d",
   "metadata": {},
   "outputs": [],
   "source": [
    "import numpy as np\n",
    "import pandas as pd"
   ]
  },
  {
   "cell_type": "markdown",
   "id": "202f87bd",
   "metadata": {},
   "source": [
    "### Read the dataset file “Cancer.csv” "
   ]
  },
  {
   "cell_type": "code",
   "execution_count": 2,
   "id": "9b51d62c",
   "metadata": {},
   "outputs": [],
   "source": [
    "df  = pd.read_csv(\"https://github.com/mpourhoma/CS4662/raw/master/Cancer.csv\")"
   ]
  },
  {
   "cell_type": "markdown",
   "id": "fc1bc25e",
   "metadata": {},
   "source": [
    "### Displays the dataset we created above from the data gathered from our link"
   ]
  },
  {
   "cell_type": "code",
   "execution_count": 3,
   "id": "dd3d5803",
   "metadata": {
    "scrolled": true
   },
   "outputs": [
    {
     "data": {
      "text/html": [
       "<div>\n",
       "<style scoped>\n",
       "    .dataframe tbody tr th:only-of-type {\n",
       "        vertical-align: middle;\n",
       "    }\n",
       "\n",
       "    .dataframe tbody tr th {\n",
       "        vertical-align: top;\n",
       "    }\n",
       "\n",
       "    .dataframe thead th {\n",
       "        text-align: right;\n",
       "    }\n",
       "</style>\n",
       "<table border=\"1\" class=\"dataframe\">\n",
       "  <thead>\n",
       "    <tr style=\"text-align: right;\">\n",
       "      <th></th>\n",
       "      <th>Clump_Thickness</th>\n",
       "      <th>Uniformity_of_Cell_Size</th>\n",
       "      <th>Uniformity_of_Cell_Shape</th>\n",
       "      <th>Marginal_Adhesion</th>\n",
       "      <th>Single_Epithelial_Cell_Size</th>\n",
       "      <th>Bare_Nuclei</th>\n",
       "      <th>Bland_Chromatin</th>\n",
       "      <th>Normal_Nucleoli</th>\n",
       "      <th>Mitoses</th>\n",
       "      <th>Malignant_Cancer</th>\n",
       "    </tr>\n",
       "  </thead>\n",
       "  <tbody>\n",
       "    <tr>\n",
       "      <th>0</th>\n",
       "      <td>5</td>\n",
       "      <td>1</td>\n",
       "      <td>1</td>\n",
       "      <td>1</td>\n",
       "      <td>2</td>\n",
       "      <td>1</td>\n",
       "      <td>3</td>\n",
       "      <td>1</td>\n",
       "      <td>1</td>\n",
       "      <td>0</td>\n",
       "    </tr>\n",
       "    <tr>\n",
       "      <th>1</th>\n",
       "      <td>5</td>\n",
       "      <td>4</td>\n",
       "      <td>4</td>\n",
       "      <td>5</td>\n",
       "      <td>7</td>\n",
       "      <td>10</td>\n",
       "      <td>3</td>\n",
       "      <td>2</td>\n",
       "      <td>1</td>\n",
       "      <td>0</td>\n",
       "    </tr>\n",
       "    <tr>\n",
       "      <th>2</th>\n",
       "      <td>3</td>\n",
       "      <td>1</td>\n",
       "      <td>1</td>\n",
       "      <td>1</td>\n",
       "      <td>2</td>\n",
       "      <td>2</td>\n",
       "      <td>3</td>\n",
       "      <td>1</td>\n",
       "      <td>1</td>\n",
       "      <td>0</td>\n",
       "    </tr>\n",
       "    <tr>\n",
       "      <th>3</th>\n",
       "      <td>6</td>\n",
       "      <td>8</td>\n",
       "      <td>8</td>\n",
       "      <td>1</td>\n",
       "      <td>3</td>\n",
       "      <td>4</td>\n",
       "      <td>3</td>\n",
       "      <td>7</td>\n",
       "      <td>1</td>\n",
       "      <td>0</td>\n",
       "    </tr>\n",
       "    <tr>\n",
       "      <th>4</th>\n",
       "      <td>4</td>\n",
       "      <td>1</td>\n",
       "      <td>1</td>\n",
       "      <td>3</td>\n",
       "      <td>2</td>\n",
       "      <td>1</td>\n",
       "      <td>3</td>\n",
       "      <td>1</td>\n",
       "      <td>1</td>\n",
       "      <td>0</td>\n",
       "    </tr>\n",
       "    <tr>\n",
       "      <th>...</th>\n",
       "      <td>...</td>\n",
       "      <td>...</td>\n",
       "      <td>...</td>\n",
       "      <td>...</td>\n",
       "      <td>...</td>\n",
       "      <td>...</td>\n",
       "      <td>...</td>\n",
       "      <td>...</td>\n",
       "      <td>...</td>\n",
       "      <td>...</td>\n",
       "    </tr>\n",
       "    <tr>\n",
       "      <th>145</th>\n",
       "      <td>3</td>\n",
       "      <td>1</td>\n",
       "      <td>1</td>\n",
       "      <td>1</td>\n",
       "      <td>2</td>\n",
       "      <td>1</td>\n",
       "      <td>2</td>\n",
       "      <td>1</td>\n",
       "      <td>1</td>\n",
       "      <td>0</td>\n",
       "    </tr>\n",
       "    <tr>\n",
       "      <th>146</th>\n",
       "      <td>9</td>\n",
       "      <td>7</td>\n",
       "      <td>7</td>\n",
       "      <td>5</td>\n",
       "      <td>5</td>\n",
       "      <td>10</td>\n",
       "      <td>7</td>\n",
       "      <td>8</td>\n",
       "      <td>3</td>\n",
       "      <td>1</td>\n",
       "    </tr>\n",
       "    <tr>\n",
       "      <th>147</th>\n",
       "      <td>10</td>\n",
       "      <td>8</td>\n",
       "      <td>8</td>\n",
       "      <td>4</td>\n",
       "      <td>10</td>\n",
       "      <td>10</td>\n",
       "      <td>8</td>\n",
       "      <td>1</td>\n",
       "      <td>1</td>\n",
       "      <td>1</td>\n",
       "    </tr>\n",
       "    <tr>\n",
       "      <th>148</th>\n",
       "      <td>1</td>\n",
       "      <td>1</td>\n",
       "      <td>1</td>\n",
       "      <td>1</td>\n",
       "      <td>2</td>\n",
       "      <td>1</td>\n",
       "      <td>3</td>\n",
       "      <td>1</td>\n",
       "      <td>1</td>\n",
       "      <td>0</td>\n",
       "    </tr>\n",
       "    <tr>\n",
       "      <th>149</th>\n",
       "      <td>5</td>\n",
       "      <td>1</td>\n",
       "      <td>1</td>\n",
       "      <td>1</td>\n",
       "      <td>2</td>\n",
       "      <td>1</td>\n",
       "      <td>3</td>\n",
       "      <td>1</td>\n",
       "      <td>1</td>\n",
       "      <td>0</td>\n",
       "    </tr>\n",
       "  </tbody>\n",
       "</table>\n",
       "<p>150 rows × 10 columns</p>\n",
       "</div>"
      ],
      "text/plain": [
       "     Clump_Thickness  Uniformity_of_Cell_Size  Uniformity_of_Cell_Shape  \\\n",
       "0                  5                        1                         1   \n",
       "1                  5                        4                         4   \n",
       "2                  3                        1                         1   \n",
       "3                  6                        8                         8   \n",
       "4                  4                        1                         1   \n",
       "..               ...                      ...                       ...   \n",
       "145                3                        1                         1   \n",
       "146                9                        7                         7   \n",
       "147               10                        8                         8   \n",
       "148                1                        1                         1   \n",
       "149                5                        1                         1   \n",
       "\n",
       "     Marginal_Adhesion  Single_Epithelial_Cell_Size  Bare_Nuclei  \\\n",
       "0                    1                            2            1   \n",
       "1                    5                            7           10   \n",
       "2                    1                            2            2   \n",
       "3                    1                            3            4   \n",
       "4                    3                            2            1   \n",
       "..                 ...                          ...          ...   \n",
       "145                  1                            2            1   \n",
       "146                  5                            5           10   \n",
       "147                  4                           10           10   \n",
       "148                  1                            2            1   \n",
       "149                  1                            2            1   \n",
       "\n",
       "     Bland_Chromatin  Normal_Nucleoli  Mitoses  Malignant_Cancer  \n",
       "0                  3                1        1                 0  \n",
       "1                  3                2        1                 0  \n",
       "2                  3                1        1                 0  \n",
       "3                  3                7        1                 0  \n",
       "4                  3                1        1                 0  \n",
       "..               ...              ...      ...               ...  \n",
       "145                2                1        1                 0  \n",
       "146                7                8        3                 1  \n",
       "147                8                1        1                 1  \n",
       "148                3                1        1                 0  \n",
       "149                3                1        1                 0  \n",
       "\n",
       "[150 rows x 10 columns]"
      ]
     },
     "execution_count": 3,
     "metadata": {},
     "output_type": "execute_result"
    }
   ],
   "source": [
    "df"
   ]
  },
  {
   "cell_type": "markdown",
   "id": "be23d8f4",
   "metadata": {},
   "source": [
    "### Grabbing our features."
   ]
  },
  {
   "cell_type": "code",
   "execution_count": 4,
   "id": "de3180fa",
   "metadata": {},
   "outputs": [
    {
     "data": {
      "text/html": [
       "<div>\n",
       "<style scoped>\n",
       "    .dataframe tbody tr th:only-of-type {\n",
       "        vertical-align: middle;\n",
       "    }\n",
       "\n",
       "    .dataframe tbody tr th {\n",
       "        vertical-align: top;\n",
       "    }\n",
       "\n",
       "    .dataframe thead th {\n",
       "        text-align: right;\n",
       "    }\n",
       "</style>\n",
       "<table border=\"1\" class=\"dataframe\">\n",
       "  <thead>\n",
       "    <tr style=\"text-align: right;\">\n",
       "      <th></th>\n",
       "      <th>Clump_Thickness</th>\n",
       "      <th>Uniformity_of_Cell_Size</th>\n",
       "      <th>Uniformity_of_Cell_Shape</th>\n",
       "      <th>Marginal_Adhesion</th>\n",
       "      <th>Single_Epithelial_Cell_Size</th>\n",
       "      <th>Bare_Nuclei</th>\n",
       "      <th>Bland_Chromatin</th>\n",
       "      <th>Normal_Nucleoli</th>\n",
       "      <th>Mitoses</th>\n",
       "    </tr>\n",
       "  </thead>\n",
       "  <tbody>\n",
       "    <tr>\n",
       "      <th>0</th>\n",
       "      <td>5</td>\n",
       "      <td>1</td>\n",
       "      <td>1</td>\n",
       "      <td>1</td>\n",
       "      <td>2</td>\n",
       "      <td>1</td>\n",
       "      <td>3</td>\n",
       "      <td>1</td>\n",
       "      <td>1</td>\n",
       "    </tr>\n",
       "    <tr>\n",
       "      <th>1</th>\n",
       "      <td>5</td>\n",
       "      <td>4</td>\n",
       "      <td>4</td>\n",
       "      <td>5</td>\n",
       "      <td>7</td>\n",
       "      <td>10</td>\n",
       "      <td>3</td>\n",
       "      <td>2</td>\n",
       "      <td>1</td>\n",
       "    </tr>\n",
       "    <tr>\n",
       "      <th>2</th>\n",
       "      <td>3</td>\n",
       "      <td>1</td>\n",
       "      <td>1</td>\n",
       "      <td>1</td>\n",
       "      <td>2</td>\n",
       "      <td>2</td>\n",
       "      <td>3</td>\n",
       "      <td>1</td>\n",
       "      <td>1</td>\n",
       "    </tr>\n",
       "    <tr>\n",
       "      <th>3</th>\n",
       "      <td>6</td>\n",
       "      <td>8</td>\n",
       "      <td>8</td>\n",
       "      <td>1</td>\n",
       "      <td>3</td>\n",
       "      <td>4</td>\n",
       "      <td>3</td>\n",
       "      <td>7</td>\n",
       "      <td>1</td>\n",
       "    </tr>\n",
       "    <tr>\n",
       "      <th>4</th>\n",
       "      <td>4</td>\n",
       "      <td>1</td>\n",
       "      <td>1</td>\n",
       "      <td>3</td>\n",
       "      <td>2</td>\n",
       "      <td>1</td>\n",
       "      <td>3</td>\n",
       "      <td>1</td>\n",
       "      <td>1</td>\n",
       "    </tr>\n",
       "    <tr>\n",
       "      <th>...</th>\n",
       "      <td>...</td>\n",
       "      <td>...</td>\n",
       "      <td>...</td>\n",
       "      <td>...</td>\n",
       "      <td>...</td>\n",
       "      <td>...</td>\n",
       "      <td>...</td>\n",
       "      <td>...</td>\n",
       "      <td>...</td>\n",
       "    </tr>\n",
       "    <tr>\n",
       "      <th>145</th>\n",
       "      <td>3</td>\n",
       "      <td>1</td>\n",
       "      <td>1</td>\n",
       "      <td>1</td>\n",
       "      <td>2</td>\n",
       "      <td>1</td>\n",
       "      <td>2</td>\n",
       "      <td>1</td>\n",
       "      <td>1</td>\n",
       "    </tr>\n",
       "    <tr>\n",
       "      <th>146</th>\n",
       "      <td>9</td>\n",
       "      <td>7</td>\n",
       "      <td>7</td>\n",
       "      <td>5</td>\n",
       "      <td>5</td>\n",
       "      <td>10</td>\n",
       "      <td>7</td>\n",
       "      <td>8</td>\n",
       "      <td>3</td>\n",
       "    </tr>\n",
       "    <tr>\n",
       "      <th>147</th>\n",
       "      <td>10</td>\n",
       "      <td>8</td>\n",
       "      <td>8</td>\n",
       "      <td>4</td>\n",
       "      <td>10</td>\n",
       "      <td>10</td>\n",
       "      <td>8</td>\n",
       "      <td>1</td>\n",
       "      <td>1</td>\n",
       "    </tr>\n",
       "    <tr>\n",
       "      <th>148</th>\n",
       "      <td>1</td>\n",
       "      <td>1</td>\n",
       "      <td>1</td>\n",
       "      <td>1</td>\n",
       "      <td>2</td>\n",
       "      <td>1</td>\n",
       "      <td>3</td>\n",
       "      <td>1</td>\n",
       "      <td>1</td>\n",
       "    </tr>\n",
       "    <tr>\n",
       "      <th>149</th>\n",
       "      <td>5</td>\n",
       "      <td>1</td>\n",
       "      <td>1</td>\n",
       "      <td>1</td>\n",
       "      <td>2</td>\n",
       "      <td>1</td>\n",
       "      <td>3</td>\n",
       "      <td>1</td>\n",
       "      <td>1</td>\n",
       "    </tr>\n",
       "  </tbody>\n",
       "</table>\n",
       "<p>150 rows × 9 columns</p>\n",
       "</div>"
      ],
      "text/plain": [
       "     Clump_Thickness  Uniformity_of_Cell_Size  Uniformity_of_Cell_Shape  \\\n",
       "0                  5                        1                         1   \n",
       "1                  5                        4                         4   \n",
       "2                  3                        1                         1   \n",
       "3                  6                        8                         8   \n",
       "4                  4                        1                         1   \n",
       "..               ...                      ...                       ...   \n",
       "145                3                        1                         1   \n",
       "146                9                        7                         7   \n",
       "147               10                        8                         8   \n",
       "148                1                        1                         1   \n",
       "149                5                        1                         1   \n",
       "\n",
       "     Marginal_Adhesion  Single_Epithelial_Cell_Size  Bare_Nuclei  \\\n",
       "0                    1                            2            1   \n",
       "1                    5                            7           10   \n",
       "2                    1                            2            2   \n",
       "3                    1                            3            4   \n",
       "4                    3                            2            1   \n",
       "..                 ...                          ...          ...   \n",
       "145                  1                            2            1   \n",
       "146                  5                            5           10   \n",
       "147                  4                           10           10   \n",
       "148                  1                            2            1   \n",
       "149                  1                            2            1   \n",
       "\n",
       "     Bland_Chromatin  Normal_Nucleoli  Mitoses  \n",
       "0                  3                1        1  \n",
       "1                  3                2        1  \n",
       "2                  3                1        1  \n",
       "3                  3                7        1  \n",
       "4                  3                1        1  \n",
       "..               ...              ...      ...  \n",
       "145                2                1        1  \n",
       "146                7                8        3  \n",
       "147                8                1        1  \n",
       "148                3                1        1  \n",
       "149                3                1        1  \n",
       "\n",
       "[150 rows x 9 columns]"
      ]
     },
     "execution_count": 4,
     "metadata": {},
     "output_type": "execute_result"
    }
   ],
   "source": [
    "X = df.loc[:, df.columns != 'Malignant_Cancer']\n",
    "X"
   ]
  },
  {
   "cell_type": "markdown",
   "id": "42332076",
   "metadata": {},
   "source": [
    "### Grabbing our label."
   ]
  },
  {
   "cell_type": "code",
   "execution_count": 5,
   "id": "26c0e080",
   "metadata": {},
   "outputs": [
    {
     "data": {
      "text/plain": [
       "0      0\n",
       "1      0\n",
       "2      0\n",
       "3      0\n",
       "4      0\n",
       "      ..\n",
       "145    0\n",
       "146    1\n",
       "147    1\n",
       "148    0\n",
       "149    0\n",
       "Name: Malignant_Cancer, Length: 150, dtype: int64"
      ]
     },
     "execution_count": 5,
     "metadata": {},
     "output_type": "execute_result"
    }
   ],
   "source": [
    "y = df['Malignant_Cancer']\n",
    "y"
   ]
  },
  {
   "cell_type": "markdown",
   "id": "b58c1855",
   "metadata": {},
   "source": [
    "## Part II\n",
    "### Importing our sklearn functions to split the dataset into testing and training sets."
   ]
  },
  {
   "cell_type": "code",
   "execution_count": 6,
   "id": "01ca5aff",
   "metadata": {},
   "outputs": [],
   "source": [
    "from sklearn.model_selection import train_test_split"
   ]
  },
  {
   "cell_type": "markdown",
   "id": "5e05ee6f",
   "metadata": {},
   "source": [
    "### Generating our training and testing sets."
   ]
  },
  {
   "cell_type": "code",
   "execution_count": 7,
   "id": "02a67da4",
   "metadata": {},
   "outputs": [],
   "source": [
    "X_train, X_test, y_train, y_test = train_test_split(X, y, test_size = 0.3, random_state = 2) "
   ]
  },
  {
   "cell_type": "markdown",
   "id": "4021430a",
   "metadata": {},
   "source": [
    "## Part III\n",
    "\n",
    "### Using Decision Tree Classifier, so we import it from the library and then declare my decision tree."
   ]
  },
  {
   "cell_type": "code",
   "execution_count": 8,
   "id": "35edd16d",
   "metadata": {},
   "outputs": [],
   "source": [
    "from sklearn.tree import DecisionTreeClassifier"
   ]
  },
  {
   "cell_type": "code",
   "execution_count": 9,
   "id": "aede0c98",
   "metadata": {},
   "outputs": [],
   "source": [
    "my_DecisionTree = DecisionTreeClassifier(random_state=2)"
   ]
  },
  {
   "cell_type": "markdown",
   "id": "625acbf2",
   "metadata": {},
   "source": [
    "### Training our decision tree classifier."
   ]
  },
  {
   "cell_type": "code",
   "execution_count": 10,
   "id": "d47bfdf1",
   "metadata": {},
   "outputs": [
    {
     "data": {
      "text/plain": [
       "DecisionTreeClassifier(random_state=2)"
      ]
     },
     "execution_count": 10,
     "metadata": {},
     "output_type": "execute_result"
    }
   ],
   "source": [
    "my_DecisionTree.fit(X_train, y_train)"
   ]
  },
  {
   "cell_type": "markdown",
   "id": "25a55a54",
   "metadata": {},
   "source": [
    "### Testing our trained decision tree classifier with our testing set to see the predictions it gives."
   ]
  },
  {
   "cell_type": "code",
   "execution_count": 11,
   "id": "aaa10d07",
   "metadata": {},
   "outputs": [],
   "source": [
    "y_predict = my_DecisionTree.predict(X_test)"
   ]
  },
  {
   "cell_type": "markdown",
   "id": "6b206570",
   "metadata": {},
   "source": [
    "### Comparing our actual resluts with our predicted results to see the accuracy."
   ]
  },
  {
   "cell_type": "code",
   "execution_count": 12,
   "id": "357e53ab",
   "metadata": {},
   "outputs": [
    {
     "data": {
      "text/plain": [
       "0.8666666666666667"
      ]
     },
     "execution_count": 12,
     "metadata": {},
     "output_type": "execute_result"
    }
   ],
   "source": [
    "from sklearn.metrics import accuracy_score\n",
    "accuracy = accuracy_score(y_test, y_predict)\n",
    "accuracy"
   ]
  },
  {
   "cell_type": "markdown",
   "id": "b7401a23",
   "metadata": {},
   "source": [
    "### Calculating and reporting the AUC of our decision tree classifier."
   ]
  },
  {
   "cell_type": "code",
   "execution_count": 13,
   "id": "9b786ee7",
   "metadata": {},
   "outputs": [
    {
     "data": {
      "text/plain": [
       "0.8697478991596639"
      ]
     },
     "execution_count": 13,
     "metadata": {},
     "output_type": "execute_result"
    }
   ],
   "source": [
    "y_predict = my_DecisionTree.predict(X_test)\n",
    "y_predict_prob = my_DecisionTree.predict_proba(X_test) # y_predict_prob has (45,2) 2 is either 1 or 0 and that determines if they have cancer or not. \n",
    "\n",
    "from sklearn import metrics\n",
    "fpr, tpr, thresholds = metrics.roc_curve(y_test, y_predict_prob[:,1], pos_label=1) # y_predict_prob[:,1] checks each row as it goes.\n",
    "AUC = metrics.auc(fpr, tpr)\n",
    "AUC"
   ]
  },
  {
   "cell_type": "markdown",
   "id": "fed7db9c",
   "metadata": {},
   "source": [
    "## Part IV\n",
    "### Bootstrap so we can then do Bagging. We import our resample library to generate a random bootstrap dataset for BOTH X_train and y_train. We declare decision tree classifier. We train our classifier. We test our classifier model with our testing set(X_test). We record the prediction. We fianlly add our predictions it to a list."
   ]
  },
  {
   "cell_type": "code",
   "execution_count": 14,
   "id": "44e9e498",
   "metadata": {},
   "outputs": [],
   "source": [
    "from sklearn.utils import resample\n",
    "\n",
    "all_base_classifiers_predictions = []\n",
    "\n",
    "for i in range(29):\n",
    "    bootstarp_size = int(0.8*len(X_train)) #might be X\n",
    "    X_bag, y_bag = resample(X_train, y_train, n_samples = bootstarp_size , random_state=i , replace = True) # try it with just X_train\n",
    "    Base_DecisionTree = DecisionTreeClassifier(random_state=2)\n",
    "    Base_DecisionTree.fit(X_bag, y_bag)\n",
    "    Base_DecisionTree_prediction = Base_DecisionTree.predict(X_test)\n",
    "    all_base_classifiers_predictions.append(Base_DecisionTree_prediction)"
   ]
  },
  {
   "cell_type": "markdown",
   "id": "ddc4d021",
   "metadata": {},
   "source": [
    "### We do voting here. We go through EACH array(29 rows in this case) and specifically look at one column per loop of all 29 arrays, or in other words we look at all elements positioned at \"i\" on the column in all 29 arrays(rows) . We take the most shown value for that column gathered from the 29 arrays and save it to an array. We will be left with one array with all the voted elements. We take this array and preform our accuracy score results."
   ]
  },
  {
   "cell_type": "code",
   "execution_count": 15,
   "id": "7dca0eac",
   "metadata": {},
   "outputs": [
    {
     "data": {
      "text/plain": [
       "0.9111111111111111"
      ]
     },
     "execution_count": 15,
     "metadata": {},
     "output_type": "execute_result"
    }
   ],
   "source": [
    "import statistics\n",
    "finalPrediction = []\n",
    "bagging_proba_predict = []\n",
    "\n",
    "for i in range(len(all_base_classifiers_predictions[i])):\n",
    "    temp = [] # needed here to restart the temp array each loop\n",
    "    count_ones = 0\n",
    "    for j in range(len(all_base_classifiers_predictions)):\n",
    "        temp.append(all_base_classifiers_predictions[j][i])\n",
    "        if(all_base_classifiers_predictions[j][i] == 1):\n",
    "            count_ones = count_ones + 1\n",
    "    finalPrediction.append(statistics.mode(temp)) # gets the popular result 1 or 0 and adds it to our array\n",
    "    bagging_proba_predict.append((count_ones / len(all_base_classifiers_predictions))) # in this case length should be 29. We do this to see the percentage of probability for each column in each testing sample.\n",
    "\n",
    "finalVotingResultAcc = accuracy_score(finalPrediction, y_test)\n",
    "finalVotingResultAcc"
   ]
  },
  {
   "cell_type": "markdown",
   "id": "1cca99c6",
   "metadata": {},
   "source": [
    "### Calculating and reporting the AUC for bagging"
   ]
  },
  {
   "cell_type": "code",
   "execution_count": 16,
   "id": "4d8d07b5",
   "metadata": {},
   "outputs": [
    {
     "data": {
      "text/plain": [
       "0.9380252100840336"
      ]
     },
     "execution_count": 16,
     "metadata": {},
     "output_type": "execute_result"
    }
   ],
   "source": [
    "fpr_bag, tpr_bag, thresholds = metrics.roc_curve(y_test, bagging_proba_predict, pos_label=1)\n",
    "AUC_bag = metrics.auc(fpr_bag, tpr_bag)\n",
    "AUC_bag"
   ]
  },
  {
   "cell_type": "markdown",
   "id": "99e7e271",
   "metadata": {},
   "source": []
  },
  {
   "cell_type": "markdown",
   "id": "4d388edd",
   "metadata": {},
   "source": [
    "## Part V\n",
    "### Importing our Adaboost Library"
   ]
  },
  {
   "cell_type": "code",
   "execution_count": 17,
   "id": "36083cbc",
   "metadata": {},
   "outputs": [],
   "source": [
    "from sklearn.ensemble  import AdaBoostClassifier"
   ]
  },
  {
   "cell_type": "markdown",
   "id": "24a86364",
   "metadata": {},
   "source": [
    "### Defining our Adaboost classifier"
   ]
  },
  {
   "cell_type": "code",
   "execution_count": 18,
   "id": "decf333b",
   "metadata": {},
   "outputs": [],
   "source": [
    "my_AdaBoost = AdaBoostClassifier(n_estimators = 29,random_state=2)"
   ]
  },
  {
   "cell_type": "markdown",
   "id": "1a49ad9b",
   "metadata": {},
   "source": [
    "### Training our AdaBoost classifier"
   ]
  },
  {
   "cell_type": "code",
   "execution_count": 19,
   "id": "39e423ed",
   "metadata": {},
   "outputs": [
    {
     "data": {
      "text/plain": [
       "AdaBoostClassifier(n_estimators=29, random_state=2)"
      ]
     },
     "execution_count": 19,
     "metadata": {},
     "output_type": "execute_result"
    }
   ],
   "source": [
    "my_AdaBoost.fit(X_train, y_train)"
   ]
  },
  {
   "cell_type": "markdown",
   "id": "af41de3a",
   "metadata": {},
   "source": [
    "### Testing our trained AdaBoost model/classifier and checking the accuracy."
   ]
  },
  {
   "cell_type": "code",
   "execution_count": 20,
   "id": "0acaa22a",
   "metadata": {},
   "outputs": [
    {
     "data": {
      "text/plain": [
       "0.9555555555555556"
      ]
     },
     "execution_count": 20,
     "metadata": {},
     "output_type": "execute_result"
    }
   ],
   "source": [
    "y_AdaBoost_predict = my_AdaBoost.predict(X_test)\n",
    "AdaBoost_accuracy = accuracy_score(y_test, y_AdaBoost_predict)\n",
    "AdaBoost_accuracy"
   ]
  },
  {
   "cell_type": "markdown",
   "id": "8796858c",
   "metadata": {},
   "source": [
    "### Calculating the AUC of our AdaBoost classifier."
   ]
  },
  {
   "cell_type": "code",
   "execution_count": 21,
   "id": "3a3afb5c",
   "metadata": {},
   "outputs": [
    {
     "data": {
      "text/plain": [
       "0.9653361344537815"
      ]
     },
     "execution_count": 21,
     "metadata": {},
     "output_type": "execute_result"
    }
   ],
   "source": [
    "y_predict_prob_AdaBoost = my_AdaBoost.predict_proba(X_test)\n",
    "\n",
    "from sklearn import metrics\n",
    "fpr_AdaBoost, tpr_AdaBoost, thresholds_AdaBoost = metrics.roc_curve(y_test, y_predict_prob_AdaBoost[:,1], pos_label=1)\n",
    "AUC_AdaBoost = metrics.auc(fpr_AdaBoost, tpr_AdaBoost)\n",
    "AUC_AdaBoost"
   ]
  },
  {
   "cell_type": "markdown",
   "id": "bae183fb",
   "metadata": {},
   "source": [
    "## Part VI\n",
    "### In this section, we use another decision tree boosting technique called \"gradient boosting\" with its very popular and super efficient implementation “XGBoost” that stands for \"Extreme Gradient Boosting.\" This algorithm is not included in sklearn, so you need to install the XGBoost library"
   ]
  },
  {
   "cell_type": "code",
   "execution_count": 22,
   "id": "46625e6d",
   "metadata": {},
   "outputs": [],
   "source": [
    "from xgboost   import XGBClassifier"
   ]
  },
  {
   "cell_type": "markdown",
   "id": "ba0b6bac",
   "metadata": {},
   "source": [
    "### Defining our classifier XGBoost"
   ]
  },
  {
   "cell_type": "code",
   "execution_count": 23,
   "id": "1efcd534",
   "metadata": {},
   "outputs": [],
   "source": [
    "my_XGBoost = XGBClassifier(n_estimators = 29,random_state=2)"
   ]
  },
  {
   "cell_type": "markdown",
   "id": "666d6dbc",
   "metadata": {},
   "source": [
    "### Training our XGBoost classifier"
   ]
  },
  {
   "cell_type": "code",
   "execution_count": 24,
   "id": "98e2f4fe",
   "metadata": {},
   "outputs": [
    {
     "data": {
      "text/plain": [
       "XGBClassifier(base_score=None, booster=None, callbacks=None,\n",
       "              colsample_bylevel=None, colsample_bynode=None,\n",
       "              colsample_bytree=None, early_stopping_rounds=None,\n",
       "              enable_categorical=False, eval_metric=None, feature_types=None,\n",
       "              gamma=None, gpu_id=None, grow_policy=None, importance_type=None,\n",
       "              interaction_constraints=None, learning_rate=None, max_bin=None,\n",
       "              max_cat_threshold=None, max_cat_to_onehot=None,\n",
       "              max_delta_step=None, max_depth=None, max_leaves=None,\n",
       "              min_child_weight=None, missing=nan, monotone_constraints=None,\n",
       "              n_estimators=29, n_jobs=None, num_parallel_tree=None,\n",
       "              predictor=None, random_state=2, ...)"
      ]
     },
     "execution_count": 24,
     "metadata": {},
     "output_type": "execute_result"
    }
   ],
   "source": [
    "my_XGBoost.fit(X_train, y_train)"
   ]
  },
  {
   "cell_type": "markdown",
   "id": "6429d537",
   "metadata": {},
   "source": [
    "### Testing our trained XGBoost model/classifier and checking the accuracy."
   ]
  },
  {
   "cell_type": "code",
   "execution_count": 25,
   "id": "83e6d29d",
   "metadata": {},
   "outputs": [
    {
     "data": {
      "text/plain": [
       "0.9555555555555556"
      ]
     },
     "execution_count": 25,
     "metadata": {},
     "output_type": "execute_result"
    }
   ],
   "source": [
    "y_XGBoost_predict = my_XGBoost.predict(X_test)\n",
    "XGBoost_accuracy = accuracy_score(y_test, y_XGBoost_predict)\n",
    "XGBoost_accuracy"
   ]
  },
  {
   "cell_type": "markdown",
   "id": "88da28a5",
   "metadata": {},
   "source": [
    "### Calculating the AUC of our XGBoost classifier."
   ]
  },
  {
   "cell_type": "code",
   "execution_count": 26,
   "id": "07731e97",
   "metadata": {},
   "outputs": [
    {
     "data": {
      "text/plain": [
       "0.9716386554621849"
      ]
     },
     "execution_count": 26,
     "metadata": {},
     "output_type": "execute_result"
    }
   ],
   "source": [
    "y_predict_prob_XGBoost = my_XGBoost.predict_proba(X_test)\n",
    "\n",
    "fpr_XGBoost, tpr_XGBoost, thresholds_XGBoost = metrics.roc_curve(y_test, y_predict_prob_XGBoost[:,1], pos_label=1)\n",
    "AUC_XGBoost = metrics.auc(fpr_XGBoost, tpr_XGBoost)\n",
    "AUC_XGBoost"
   ]
  },
  {
   "cell_type": "markdown",
   "id": "596f4c18",
   "metadata": {},
   "source": [
    "## Part VII\n",
    "### Here we use scikit-learn “Random Forest” classifier to predict Cancer based on the training/testing datasets"
   ]
  },
  {
   "cell_type": "code",
   "execution_count": 27,
   "id": "bfb55896",
   "metadata": {},
   "outputs": [],
   "source": [
    "from sklearn.ensemble import RandomForestClassifier"
   ]
  },
  {
   "cell_type": "markdown",
   "id": "43b4ca4c",
   "metadata": {},
   "source": [
    "### Declaring our Random Forest Classifier."
   ]
  },
  {
   "cell_type": "code",
   "execution_count": 28,
   "id": "228c5e96",
   "metadata": {},
   "outputs": [],
   "source": [
    "my_RandomForest = RandomForestClassifier(n_estimators = 29, bootstrap = True, random_state=2)"
   ]
  },
  {
   "cell_type": "markdown",
   "id": "945be8d5",
   "metadata": {},
   "source": [
    "### Training our Random Forest Classifier."
   ]
  },
  {
   "cell_type": "code",
   "execution_count": 29,
   "id": "462b00f2",
   "metadata": {},
   "outputs": [
    {
     "data": {
      "text/plain": [
       "RandomForestClassifier(n_estimators=29, random_state=2)"
      ]
     },
     "execution_count": 29,
     "metadata": {},
     "output_type": "execute_result"
    }
   ],
   "source": [
    "my_RandomForest.fit(X_train, y_train)"
   ]
  },
  {
   "cell_type": "markdown",
   "id": "a4fcc5b0",
   "metadata": {},
   "source": [
    "### Testing our trained Random Forest model/classifier and checking the accuracy."
   ]
  },
  {
   "cell_type": "code",
   "execution_count": 30,
   "id": "ddc34b0d",
   "metadata": {},
   "outputs": [
    {
     "data": {
      "text/plain": [
       "0.9555555555555556"
      ]
     },
     "execution_count": 30,
     "metadata": {},
     "output_type": "execute_result"
    }
   ],
   "source": [
    "y_RandomForest_predict = my_RandomForest.predict(X_test)\n",
    "RandomForest_accuracy = accuracy_score(y_test, y_RandomForest_predict)\n",
    "RandomForest_accuracy"
   ]
  },
  {
   "cell_type": "markdown",
   "id": "84599cf4",
   "metadata": {},
   "source": [
    "### Calculating the AUC of our Random Forest classifier."
   ]
  },
  {
   "cell_type": "code",
   "execution_count": 31,
   "id": "f3a7af23",
   "metadata": {},
   "outputs": [
    {
     "data": {
      "text/plain": [
       "0.9516806722689075"
      ]
     },
     "execution_count": 31,
     "metadata": {},
     "output_type": "execute_result"
    }
   ],
   "source": [
    "y_predict_prob_RandomForest = my_RandomForest.predict_proba(X_test)\n",
    "\n",
    "fpr_RandomForest, tpr_RandomForest, thresholds_RandomForest = metrics.roc_curve(y_test, y_predict_prob_RandomForest[:,1], pos_label=1)\n",
    "AUC_RandomForest = metrics.auc(fpr_RandomForest, tpr_RandomForest)\n",
    "AUC_RandomForest"
   ]
  },
  {
   "cell_type": "markdown",
   "id": "eab4528c",
   "metadata": {},
   "source": [
    "## VIII\n",
    "### Plotting ROC curves of our algorithms models: Decision Tree, Bagging, AdaBoost, XGBoost, and Random Forest."
   ]
  },
  {
   "cell_type": "code",
   "execution_count": 32,
   "id": "a71031ec",
   "metadata": {},
   "outputs": [
    {
     "data": {
      "image/png": "[encoded data removed]",
      "text/plain": [
       "<Figure size 640x480 with 1 Axes>"
      ]
     },
     "metadata": {},
     "output_type": "display_data"
    }
   ],
   "source": [
    "# Importing the \"pyplot\" package of \"matplotlib\" library of python to generate \n",
    "# graphs and plot curves:\n",
    "import matplotlib.pyplot as plt\n",
    "\n",
    "# The following line will tell Jupyter Notebook to keep the figures inside the explorer page \n",
    "# rather than openng a new figure window:\n",
    "%matplotlib inline\n",
    "\n",
    "plt.figure()\n",
    "\n",
    "# Roc Curve:\n",
    "plt.plot(fpr, tpr, color='red', lw=2, \n",
    "         label='ROC Curve: Decision tree (area = %0.2f)' % AUC)\n",
    "# Bagging\n",
    "plt.plot(fpr_bag, tpr_bag, color='turquoise', lw=2, \n",
    "         label='ROC Curve: Bagging (area = %0.2f)' % AUC_bag)\n",
    "#ADABoost\n",
    "plt.plot(fpr_AdaBoost, tpr_AdaBoost, color='green', lw=2, \n",
    "         label='ROC Curve: ADABoost (area = %0.2f)' % AUC_AdaBoost)\n",
    "#XGBoost\n",
    "plt.plot(fpr_XGBoost, tpr_XGBoost, color='orange', lw=2, \n",
    "         label='ROC Curve: XGBoost (area = %0.2f)' % AUC_XGBoost)\n",
    "#Random Forest\n",
    "plt.plot(fpr_RandomForest, tpr_RandomForest, color='purple', lw=2, \n",
    "         label='ROC Curve: Random Forest (area = %0.2f)' % AUC_RandomForest)\n",
    "\n",
    "# Random Guess line:\n",
    "plt.plot([0, 1], [0, 1], color='blue', lw=1, linestyle='--')\n",
    "\n",
    "# Defining The Range of X-Axis and Y-Axis:\n",
    "plt.xlim([-0.005, 1.005])\n",
    "plt.ylim([0.0, 1.01])\n",
    "\n",
    "# Labels, Title, Legend:\n",
    "plt.xlabel('False Positive Rate')\n",
    "plt.ylabel('True Positive Rate')\n",
    "plt.title('Receiver operating characteristic')\n",
    "plt.legend(loc=\"lower right\")\n",
    "\n",
    "plt.show()"
   ]
  },
  {
   "cell_type": "markdown",
   "id": "24ed0f95",
   "metadata": {},
   "source": [
    "### Answer to Question 1: It is between ADABoost and XGBoost but I would say the XGBoost AUC.\n",
    "\n",
    "### Answer to Question 2: Random Forest, XGBoost, and ADABoost all get the same accuracy of 95%\n",
    "\n",
    "### If we want a false positive rate of %7 then that would be the Decision Tree classifier."
   ]
  }
 ],
 "metadata": {
  "kernelspec": {
   "display_name": "Python 3 (ipykernel)",
   "language": "python",
   "name": "python3"
  },
  "language_info": {
   "codemirror_mode": {
    "name": "ipython",
    "version": 3
   },
   "file_extension": ".py",
   "mimetype": "text/x-python",
   "name": "python",
   "nbconvert_exporter": "python",
   "pygments_lexer": "ipython3",
   "version": "3.10.9"
  }
 },
 "nbformat": 4,
 "nbformat_minor": 5
}
